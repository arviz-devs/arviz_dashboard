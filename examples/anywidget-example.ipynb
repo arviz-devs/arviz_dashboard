{
 "cells": [
  {
   "cell_type": "code",
   "execution_count": 1,
   "id": "21729648-abd0-4e93-890d-fc7c1aa16019",
   "metadata": {},
   "outputs": [],
   "source": [
    "%load_ext autoreload\n",
    "%autoreload 2"
   ]
  },
  {
   "cell_type": "code",
   "execution_count": 2,
   "id": "50246b82-0522-4b34-9fe7-854212999564",
   "metadata": {},
   "outputs": [],
   "source": [
    "import arviz as az\n",
    "\n",
    "import arviz_dashboard as azd"
   ]
  },
  {
   "cell_type": "code",
   "execution_count": 3,
   "id": "75b72c5e-08ef-4357-8901-4d26a6cb379b",
   "metadata": {},
   "outputs": [],
   "source": [
    "idata = az.load_arviz_data(\"radon\")"
   ]
  },
  {
   "cell_type": "code",
   "execution_count": 5,
   "id": "dc47f483-5cf0-4a1c-9074-fa457deb94ac",
   "metadata": {},
   "outputs": [
    {
     "data": {
      "application/vnd.jupyter.widget-view+json": {
       "model_id": "bb2c0107dc9a4c368520bc82022d2841",
       "version_major": 2,
       "version_minor": 1
      },
      "text/plain": [
       "Traceplot(hierarchy={'g': {'g_coef': ['intercept', 'slope']}, 'za_county': {'County': ['AITKIN', 'ANOKA', 'BEC…"
      ]
     },
     "execution_count": 5,
     "metadata": {},
     "output_type": "execute_result"
    }
   ],
   "source": [
    "azd.Traceplot(idata=idata)"
   ]
  },
  {
   "cell_type": "code",
   "execution_count": null,
   "id": "9cf606d3-786d-4051-91d7-664ffc7c2b61",
   "metadata": {},
   "outputs": [],
   "source": []
  }
 ],
 "metadata": {
  "kernelspec": {
   "display_name": "Python 3 (ipykernel)",
   "language": "python",
   "name": "python3"
  },
  "language_info": {
   "codemirror_mode": {
    "name": "ipython",
    "version": 3
   },
   "file_extension": ".py",
   "mimetype": "text/x-python",
   "name": "python",
   "nbconvert_exporter": "python",
   "pygments_lexer": "ipython3",
   "version": "3.11.10"
  }
 },
 "nbformat": 4,
 "nbformat_minor": 5
}
