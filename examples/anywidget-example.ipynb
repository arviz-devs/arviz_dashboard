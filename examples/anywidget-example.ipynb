{
 "cells": [
  {
   "cell_type": "code",
   "execution_count": 1,
   "id": "50246b82-0522-4b34-9fe7-854212999564",
   "metadata": {},
   "outputs": [],
   "source": [
    "import arviz as az\n",
    "\n",
    "from arviz_dashboard.forestplot import Forestplot"
   ]
  },
  {
   "cell_type": "code",
   "execution_count": 2,
   "id": "75b72c5e-08ef-4357-8901-4d26a6cb379b",
   "metadata": {},
   "outputs": [],
   "source": [
    "idata = az.load_arviz_data(\"centered_eight\")"
   ]
  },
  {
   "cell_type": "code",
   "execution_count": 3,
   "id": "dc47f483-5cf0-4a1c-9074-fa457deb94ac",
   "metadata": {
    "scrolled": true
   },
   "outputs": [
    {
     "data": {
      "application/vnd.jupyter.widget-view+json": {
       "model_id": "508a394d10a44e908fc97471ad8c5863",
       "version_major": 2,
       "version_minor": 1
      },
      "text/plain": [
       "Forestplot(posterior={'coords': {'chain': {'dims': ('chain',), 'attrs': {}, 'data': [0, 1, 2, 3]}, 'draw': {'d…"
      ]
     },
     "execution_count": 3,
     "metadata": {},
     "output_type": "execute_result"
    }
   ],
   "source": [
    "Forestplot(posterior=idata[\"posterior\"].to_dict())"
   ]
  }
 ],
 "metadata": {
  "kernelspec": {
   "display_name": "Python 3 (ipykernel)",
   "language": "python",
   "name": "python3"
  },
  "language_info": {
   "codemirror_mode": {
    "name": "ipython",
    "version": 3
   },
   "file_extension": ".py",
   "mimetype": "text/x-python",
   "name": "python",
   "nbconvert_exporter": "python",
   "pygments_lexer": "ipython3",
   "version": "3.11.8"
  }
 },
 "nbformat": 4,
 "nbformat_minor": 5
}
