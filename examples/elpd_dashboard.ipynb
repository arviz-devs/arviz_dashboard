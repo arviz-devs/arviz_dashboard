{
 "cells": [
  {
   "cell_type": "markdown",
   "id": "6c7ec72e-59dc-402e-8f3f-14697d5e94d8",
   "metadata": {},
   "source": [
    "# Load Package"
   ]
  },
  {
   "cell_type": "code",
   "execution_count": null,
   "id": "109b1f94-0a82-4b16-9443-f0820eb80f1f",
   "metadata": {},
   "outputs": [],
   "source": [
    "%matplotlib inline\n",
    "import sys\n",
    "\n",
    "import numpy as np\n",
    "import pymc as pm\n",
    "\n",
    "import arviz as az\n",
    "from arviz_dashboard.panel.elpd import dashboard_elpd\n",
    "\n",
    "if not sys.warnoptions:\n",
    "    import warnings\n",
    "\n",
    "    warnings.simplefilter(\"ignore\")"
   ]
  },
  {
   "cell_type": "markdown",
   "id": "befb4f67-6506-4109-acf7-0df16ccf1ab2",
   "metadata": {},
   "source": [
    "## Test 1"
   ]
  },
  {
   "cell_type": "markdown",
   "id": "2b648aa6-8c8d-4f27-912d-366d04134d64",
   "metadata": {},
   "source": [
    "### Create Models"
   ]
  },
  {
   "cell_type": "code",
   "execution_count": null,
   "id": "42c9c5a9-574f-4915-9cfd-b2110b10ed3e",
   "metadata": {},
   "outputs": [],
   "source": [
    "dict_cmp = {}\n",
    "d1 = az.load_arviz_data(\"centered_eight\")\n",
    "d2 = az.load_arviz_data(\"non_centered_eight\")\n",
    "dict_cmp[\"mA\"] = d1\n",
    "dict_cmp[\"mB\"] = d2"
   ]
  },
  {
   "cell_type": "markdown",
   "id": "c4d61d11-7dd8-4038-bf67-0dd75973be26",
   "metadata": {},
   "source": [
    "### Build Dashboard"
   ]
  },
  {
   "cell_type": "code",
   "execution_count": null,
   "id": "251571b0-ad3c-4498-a600-ddbf9dc7f719",
   "metadata": {},
   "outputs": [],
   "source": [
    "dashboard_elpd(dict_cmp)"
   ]
  },
  {
   "cell_type": "markdown",
   "id": "ff41fe2b-8a35-4290-8cea-78b28943b0d5",
   "metadata": {},
   "source": [
    "## Test2"
   ]
  },
  {
   "cell_type": "markdown",
   "id": "69c0cf72-c056-4e6e-835f-3fd20386855b",
   "metadata": {},
   "source": [
    "### Create Models"
   ]
  },
  {
   "cell_type": "code",
   "execution_count": null,
   "id": "15b44d95-21b2-4254-90b3-ec1eba05c71d",
   "metadata": {},
   "outputs": [],
   "source": [
    "y_obs = np.random.normal(0, 1, size=100)\n",
    "idatas_cmp = {}\n",
    "\n",
    "with pm.Model() as mA:\n",
    "    σ = pm.HalfNormal(\"σ\", 1)\n",
    "    y = pm.SkewNormal(\"y\", 0, σ, observed=y_obs)\n",
    "    idataA = pm.sample(idata_kwargs={\"log_likelihood\": True})\n",
    "    idataA.extend(pm.sample_posterior_predictive(idataA))\n",
    "\n",
    "with pm.Model() as mB:\n",
    "    σ = pm.HalfNormal(\"σ\", 1)\n",
    "    y = pm.Normal(\"y\", 0, σ, observed=y_obs)\n",
    "    idataB = pm.sample(idata_kwargs={\"log_likelihood\": True})\n",
    "    idataB.extend(pm.sample_posterior_predictive(idataB))\n",
    "\n",
    "\n",
    "with pm.Model() as mC:\n",
    "    μ = pm.Normal(\"μ\", 0, 1)\n",
    "    σ = pm.HalfNormal(\"σ\", 1)\n",
    "    y = pm.Normal(\"y\", μ, σ, observed=y_obs)\n",
    "    idataC = pm.sample(idata_kwargs={\"log_likelihood\": True})\n",
    "    idataC.extend(pm.sample_posterior_predictive(idataC))"
   ]
  },
  {
   "cell_type": "code",
   "execution_count": null,
   "id": "b0127e25-e88e-44ab-a1d7-694dcc3d540b",
   "metadata": {},
   "outputs": [],
   "source": [
    "idatas_cmp[\"mA\"] = idataA\n",
    "idatas_cmp[\"mB\"] = idataB\n",
    "idatas_cmp[\"mC\"] = idataC"
   ]
  },
  {
   "cell_type": "markdown",
   "id": "87993c16-b3a4-40da-aee0-f4693fddc8b2",
   "metadata": {},
   "source": [
    "### Build Dashboard"
   ]
  },
  {
   "cell_type": "code",
   "execution_count": null,
   "id": "aa224540-0595-4a32-a984-c81defedd42b",
   "metadata": {},
   "outputs": [],
   "source": [
    "dashboard_elpd(idatas_cmp)"
   ]
  }
 ],
 "metadata": {
  "kernelspec": {
   "display_name": "Python 3 (ipykernel)",
   "language": "python",
   "name": "python3"
  },
  "language_info": {
   "codemirror_mode": {
    "name": "ipython",
    "version": 3
   },
   "file_extension": ".py",
   "mimetype": "text/x-python",
   "name": "python",
   "nbconvert_exporter": "python",
   "pygments_lexer": "ipython3",
   "version": "3.10.13"
  },
  "vscode": {
   "interpreter": {
    "hash": "949777d72b0d2535278d3dc13498b2535136f6dfe0678499012e853ee9abcab1"
   }
  }
 },
 "nbformat": 4,
 "nbformat_minor": 5
}
