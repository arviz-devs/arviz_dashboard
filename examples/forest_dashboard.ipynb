{
 "cells": [
  {
   "cell_type": "code",
   "execution_count": null,
   "id": "90af151f-b329-462f-bd21-83c3d49c2b02",
   "metadata": {},
   "outputs": [],
   "source": [
    "%matplotlib inline\n",
    "import sys\n",
    "\n",
    "import arviz as az\n",
    "import numpy as np\n",
    "import pymc as pm\n",
    "\n",
    "from arviz_dashboard.panel.forest import *\n",
    "\n",
    "if not sys.warnoptions:\n",
    "    import warnings\n",
    "warnings.simplefilter(\"ignore\")"
   ]
  },
  {
   "cell_type": "markdown",
   "id": "b65a2190-0f7f-48f3-a0f3-7d35cde62ea5",
   "metadata": {},
   "source": [
    "## Test 1"
   ]
  },
  {
   "cell_type": "markdown",
   "id": "f6a06ea1-7fce-4652-81ed-6b53f8d7d8d8",
   "metadata": {},
   "source": [
    "### Create Models"
   ]
  },
  {
   "cell_type": "code",
   "execution_count": null,
   "id": "343b5483-4678-4e67-881c-67a13e1e3692",
   "metadata": {},
   "outputs": [],
   "source": [
    "dict_cmp = {}\n",
    "d1 = az.load_arviz_data(\"centered_eight\")\n",
    "d2 = az.load_arviz_data(\"non_centered_eight\")\n",
    "dict_cmp[\"mA\"] = d1\n",
    "dict_cmp[\"mB\"] = d2"
   ]
  },
  {
   "cell_type": "markdown",
   "id": "605cedd4-a51a-4186-861a-9ba69f2d029f",
   "metadata": {},
   "source": [
    "### Build Dashboard"
   ]
  },
  {
   "cell_type": "code",
   "execution_count": null,
   "id": "7492e5a2-b287-4101-8648-f9be2763c115",
   "metadata": {},
   "outputs": [],
   "source": [
    "forest_dashboard = ForestDashboard(dict_cmp)\n",
    "forest_dashboard.dashboard_forest()"
   ]
  },
  {
   "cell_type": "markdown",
   "id": "bfc28a4d-9c5b-438a-89cf-c9043ac4117f",
   "metadata": {},
   "source": [
    "## Test2"
   ]
  },
  {
   "cell_type": "markdown",
   "id": "50d82b2b-2eab-4a22-8e24-cb9c916dc93d",
   "metadata": {},
   "source": [
    "### Create Models"
   ]
  },
  {
   "cell_type": "code",
   "execution_count": null,
   "id": "a7ab22fa-eaa9-4a98-89ed-3bde7697718a",
   "metadata": {},
   "outputs": [],
   "source": [
    "y_obs = np.random.normal(0, 1, size=100)\n",
    "idatas_cmp = {}\n",
    "\n",
    "with pm.Model() as mA:\n",
    "    σ = pm.HalfNormal(\"σ\", 1)\n",
    "    y = pm.SkewNormal(\"y\", 0, σ, observed=y_obs)\n",
    "    idataA = pm.sample(idata_kwargs={\"log_likelihood\": True})\n",
    "    idataA.extend(pm.sample_posterior_predictive(idataA))\n",
    "\n",
    "with pm.Model() as mB:\n",
    "    σ = pm.HalfNormal(\"σ\", 1)\n",
    "    y = pm.Normal(\"y\", 0, σ, observed=y_obs)\n",
    "    idataB = pm.sample(idata_kwargs={\"log_likelihood\": True})\n",
    "    idataB.extend(pm.sample_posterior_predictive(idataB))\n",
    "\n",
    "\n",
    "with pm.Model() as mC:\n",
    "    μ = pm.Normal(\"μ\", 0, 1)\n",
    "    σ = pm.HalfNormal(\"σ\", 1)\n",
    "    y = pm.Normal(\"y\", μ, σ, observed=y_obs)\n",
    "    idataC = pm.sample(idata_kwargs={\"log_likelihood\": True})\n",
    "    idataC.extend(pm.sample_posterior_predictive(idataC))"
   ]
  },
  {
   "cell_type": "code",
   "execution_count": null,
   "id": "546f82d8-95fb-4e0d-96a9-53823464c56f",
   "metadata": {},
   "outputs": [],
   "source": [
    "idatas_cmp[\"mA\"] = idataA\n",
    "idatas_cmp[\"mB\"] = idataB\n",
    "idatas_cmp[\"mC\"] = idataC"
   ]
  },
  {
   "cell_type": "markdown",
   "id": "43984d5e-17f8-459c-af78-7a5380a7bd0a",
   "metadata": {},
   "source": [
    "### Build Dashboard"
   ]
  },
  {
   "cell_type": "code",
   "execution_count": null,
   "id": "1c4d9323-edfa-4d07-8518-ef8b76c940cc",
   "metadata": {},
   "outputs": [],
   "source": [
    "forest_dashboard = ForestDashboard(idatas_cmp)\n",
    "forest_dashboard.dashboard_forest()"
   ]
  }
 ],
 "metadata": {
  "kernelspec": {
   "display_name": "Python 3 (ipykernel)",
   "language": "python",
   "name": "python3"
  },
  "language_info": {
   "codemirror_mode": {
    "name": "ipython",
    "version": 3
   },
   "file_extension": ".py",
   "mimetype": "text/x-python",
   "name": "python",
   "nbconvert_exporter": "python",
   "pygments_lexer": "ipython3",
   "version": "3.10.13"
  }
 },
 "nbformat": 4,
 "nbformat_minor": 5
}
