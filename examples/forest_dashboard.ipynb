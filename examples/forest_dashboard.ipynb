{
 "cells": [
  {
   "cell_type": "code",
   "execution_count": null,
   "id": "90af151f-b329-462f-bd21-83c3d49c2b02",
   "metadata": {},
   "outputs": [],
   "source": [
    "%matplotlib inline\n",
    "import sys\n",
    "\n",
    "import arviz as az\n",
    "import numpy as np\n",
    "import pymc as pm\n",
    "\n",
    "if not sys.warnoptions:\n",
    "    import warnings\n",
    "warnings.simplefilter(\"ignore\")\n",
    "\n",
    "from forest import *"
   ]
  },
  {
   "cell_type": "markdown",
   "id": "b65a2190-0f7f-48f3-a0f3-7d35cde62ea5",
   "metadata": {},
   "source": [
    "## Test 1"
   ]
  },
  {
   "cell_type": "markdown",
   "id": "f6a06ea1-7fce-4652-81ed-6b53f8d7d8d8",
   "metadata": {},
   "source": [
    "### Create Models"
   ]
  },
  {
   "cell_type": "code",
   "execution_count": null,
   "id": "343b5483-4678-4e67-881c-67a13e1e3692",
   "metadata": {},
   "outputs": [],
   "source": [
    "dict_cmp = {}\n",
    "d1 = az.load_arviz_data(\"centered_eight\")\n",
    "d2 = az.load_arviz_data(\"non_centered_eight\")\n",
    "dict_cmp[\"mA\"] = d1\n",
    "dict_cmp[\"mB\"] = d2"
   ]
  },
  {
   "cell_type": "markdown",
   "id": "605cedd4-a51a-4186-861a-9ba69f2d029f",
   "metadata": {},
   "source": [
    "### Build Dashboard"
   ]
  },
  {
   "cell_type": "code",
   "execution_count": null,
   "id": "7492e5a2-b287-4101-8648-f9be2763c115",
   "metadata": {},
   "outputs": [],
   "source": [
    "dashboard_forest(dict_cmp)"
   ]
  },
  {
   "cell_type": "markdown",
   "id": "2dfbd929-55f8-49a0-a9d5-b4be9825a3e8",
   "metadata": {},
   "source": [
    "## Components"
   ]
  },
  {
   "cell_type": "code",
   "execution_count": null,
   "id": "1972333d-4e9a-4dee-8943-de8c0b2c71be",
   "metadata": {},
   "outputs": [],
   "source": [
    "fp = az.plot_forest(\n",
    "    dict_cmp[\"mA\"],\n",
    "    kind=\"forestplot\",\n",
    "    hdi_prob=0.9,\n",
    "    backend=\"bokeh\",\n",
    "    figsize=(9, 9),\n",
    "    combined=True,\n",
    ")"
   ]
  },
  {
   "cell_type": "code",
   "execution_count": null,
   "id": "5781044b-307d-4791-a940-d8d4453c7e83",
   "metadata": {},
   "outputs": [],
   "source": [
    "vars(fp[0][0])[\"_property_values\"]"
   ]
  },
  {
   "cell_type": "code",
   "execution_count": null,
   "id": "bef190b6-785f-421f-a663-8f68f1f6cabe",
   "metadata": {},
   "outputs": [],
   "source": [
    "vars(\n",
    "    vars(vars(fp[0][0])[\"_property_values\"][\"renderers\"][0])[\"_property_values\"][\n",
    "        \"data_source\"\n",
    "    ]\n",
    ")[\"_property_values\"]"
   ]
  },
  {
   "cell_type": "code",
   "execution_count": null,
   "id": "6cd4ed15-1afe-4fd8-8e6f-062a1924b46a",
   "metadata": {},
   "outputs": [],
   "source": [
    "vars(\n",
    "    vars(vars(fp[0][0])[\"_property_values\"][\"renderers\"][1])[\"_property_values\"][\n",
    "        \"data_source\"\n",
    "    ]\n",
    ")[\"_property_values\"]"
   ]
  },
  {
   "cell_type": "code",
   "execution_count": null,
   "id": "8616942d-2eba-44c0-86ea-77091917da6c",
   "metadata": {},
   "outputs": [],
   "source": [
    "vars(\n",
    "    vars(vars(fp[0][0])[\"_property_values\"][\"renderers\"][2])[\"_property_values\"][\n",
    "        \"glyph\"\n",
    "    ]\n",
    ")[\"_property_values\"]"
   ]
  },
  {
   "cell_type": "code",
   "execution_count": null,
   "id": "50fe6968-574c-486f-bab7-a1a35287c446",
   "metadata": {},
   "outputs": [],
   "source": [
    "vars(\n",
    "    vars(vars(fp[0][0])[\"_property_values\"][\"renderers\"][3])[\"_property_values\"][\n",
    "        \"data_source\"\n",
    "    ]\n",
    ")[\"_property_values\"]"
   ]
  },
  {
   "cell_type": "code",
   "execution_count": null,
   "id": "40caaf45-4907-4b43-b8db-4fd694841c9e",
   "metadata": {},
   "outputs": [],
   "source": [
    "vars(\n",
    "    vars(vars(fp[0][0])[\"_property_values\"][\"renderers\"][4])[\"_property_values\"][\n",
    "        \"data_source\"\n",
    "    ]\n",
    ")[\"_property_values\"]"
   ]
  },
  {
   "cell_type": "code",
   "execution_count": null,
   "id": "c129b8b7-b629-4796-ba39-3e9ea0fc537e",
   "metadata": {},
   "outputs": [],
   "source": [
    "vars(\n",
    "    vars(vars(fp[0][0])[\"_property_values\"][\"renderers\"][5])[\"_property_values\"][\n",
    "        \"glyph\"\n",
    "    ]\n",
    ")[\"_property_values\"]"
   ]
  },
  {
   "cell_type": "markdown",
   "id": "a63a458b-f576-47e8-953a-ef9a88b35967",
   "metadata": {},
   "source": [
    "## Ridge_Plot"
   ]
  },
  {
   "cell_type": "code",
   "execution_count": null,
   "id": "d9f9e994-2708-4bc8-8c80-095ed363aaff",
   "metadata": {},
   "outputs": [],
   "source": [
    "az.plot_forest(\n",
    "    dict_cmp[\"mA\"],\n",
    "    kind=\"ridgeplot\",  # need to change\n",
    "    var_names=[\"theta\"],  # need to change (the variables?)\n",
    "    combined=True,\n",
    "    ridgeplot_truncate=False,  # need to change\n",
    "    ridgeplot_quantiles=[0.25, 0.5, 0.75],  # need to change\n",
    "    ridgeplot_overlap=0.7,\n",
    "    colors=\"white\",\n",
    "    figsize=(9, 7),\n",
    ")"
   ]
  },
  {
   "cell_type": "code",
   "execution_count": null,
   "id": "60eb963d-4260-4416-ae80-6029d9b975a6",
   "metadata": {},
   "outputs": [],
   "source": [
    "ridge_quant = (0.25, 0.75)"
   ]
  },
  {
   "cell_type": "code",
   "execution_count": null,
   "id": "127ce647-753e-4094-adfb-455ce7262b11",
   "metadata": {},
   "outputs": [],
   "source": [
    "temp_quant = list(ridge_quant)"
   ]
  },
  {
   "cell_type": "code",
   "execution_count": null,
   "id": "0312232f-8c8d-4f2d-a3ca-230994c4b42d",
   "metadata": {},
   "outputs": [],
   "source": [
    "temp_quant"
   ]
  },
  {
   "cell_type": "code",
   "execution_count": null,
   "id": "60873041-2607-4fd9-bc54-6e74a329b0ac",
   "metadata": {},
   "outputs": [],
   "source": [
    "sum(temp_quant) / 2"
   ]
  },
  {
   "cell_type": "code",
   "execution_count": null,
   "id": "1ae41b67-45a1-4460-9642-a01c5a3d9faa",
   "metadata": {},
   "outputs": [],
   "source": [
    "quant_ls = temp_quant"
   ]
  },
  {
   "cell_type": "code",
   "execution_count": null,
   "id": "060b676a-9425-4cda-b649-dab3a196f41a",
   "metadata": {},
   "outputs": [],
   "source": [
    "quant_ls.append(sum(temp_quant) / 2)"
   ]
  },
  {
   "cell_type": "code",
   "execution_count": null,
   "id": "6d42347f-6459-4616-b16a-49591e2c7dc1",
   "metadata": {},
   "outputs": [],
   "source": [
    "quant_ls"
   ]
  },
  {
   "cell_type": "markdown",
   "id": "69092bb3-43ad-4ecd-92fe-2e02b5678fdc",
   "metadata": {},
   "source": [
    "## Coords Link to Data Vars"
   ]
  },
  {
   "cell_type": "code",
   "execution_count": null,
   "id": "ff8e06d9-7935-4da5-bb9c-7d1c1957e2f8",
   "metadata": {},
   "outputs": [],
   "source": [
    "d2"
   ]
  },
  {
   "cell_type": "code",
   "execution_count": null,
   "id": "e4fb819c-227f-4778-97d2-56f71726ed9e",
   "metadata": {},
   "outputs": [],
   "source": [
    "list(d1.posterior.data_vars.variables)"
   ]
  },
  {
   "cell_type": "code",
   "execution_count": null,
   "id": "531e2918-7636-4bc5-a9f4-d4d0a659c013",
   "metadata": {},
   "outputs": [],
   "source": [
    "d1.posterior.data_vars.variables[\"theta\"]"
   ]
  },
  {
   "cell_type": "code",
   "execution_count": null,
   "id": "d83dc6c3-eac4-4b45-b069-e7148f408b64",
   "metadata": {},
   "outputs": [],
   "source": [
    "d1.posterior.data_vars.variables[\"mu\"].shape"
   ]
  },
  {
   "cell_type": "code",
   "execution_count": null,
   "id": "d7553906-2da4-49f1-a6f0-9ee336c3272b",
   "metadata": {},
   "outputs": [],
   "source": [
    "d1.posterior.data_vars.variables[\"mu\"][0][0].size"
   ]
  },
  {
   "cell_type": "code",
   "execution_count": null,
   "id": "f3cc58d5-d0e1-4f60-86be-b1bc86a37adb",
   "metadata": {},
   "outputs": [],
   "source": [
    "d1.posterior.data_vars.variables[\"tau\"][0][0].size"
   ]
  },
  {
   "cell_type": "code",
   "execution_count": null,
   "id": "a33b6418-c7ea-4846-8a24-332c1665c6cf",
   "metadata": {},
   "outputs": [],
   "source": [
    "d1.posterior.data_vars.variables[\"theta\"].shape"
   ]
  },
  {
   "cell_type": "code",
   "execution_count": null,
   "id": "f6204d1d-3c1a-499d-b439-24d5f1a71d38",
   "metadata": {},
   "outputs": [],
   "source": [
    "d1.posterior.data_vars.variables[\"mu\"][0][0]"
   ]
  },
  {
   "cell_type": "code",
   "execution_count": null,
   "id": "c2f80952-58c1-479c-8f7f-ad7f49671a93",
   "metadata": {},
   "outputs": [],
   "source": [
    "variables_selection = pn.widgets.Select(\n",
    "    value=None, options=list(d1.posterior.data_vars.variables), name=\"Data Variables\"\n",
    ")\n",
    "coord_selection = pn.widgets.Select(\n",
    "    value=None, options=[\"\"], name=\"Coordinates Variables\"\n",
    ")\n",
    "\n",
    "\n",
    "@pn.depends(variables_selection.param.value)\n",
    "def update_coords(variables_selection):\n",
    "    if d1.posterior.data_vars.variables[variables_selection][0][0].size > 1:\n",
    "        coord_selection.options = list(d1.posterior.indexes[\"school\"])\n",
    "    else:\n",
    "        coord_selection.options = [\"\"]\n",
    "    return coord_selection"
   ]
  },
  {
   "cell_type": "code",
   "execution_count": null,
   "id": "a14f1867-6659-4ec3-9dc9-05dbd6ccb136",
   "metadata": {},
   "outputs": [],
   "source": [
    "display(pn.Row(variables_selection, update_coords))"
   ]
  },
  {
   "cell_type": "code",
   "execution_count": null,
   "id": "c449947b-1e98-4c1d-b9e4-80ec5e806362",
   "metadata": {},
   "outputs": [],
   "source": [
    "import param"
   ]
  },
  {
   "cell_type": "code",
   "execution_count": null,
   "id": "1dbba0bb-ab75-44f8-924c-02c02f1433d5",
   "metadata": {},
   "outputs": [],
   "source": [
    "class ModelVar(param.Parameterized):\n",
    "    idatas_cmp = dict_cmp\n",
    "    default_model = list(idatas_cmp.keys())[0]\n",
    "    model = param.Selector(list(idatas_cmp.keys()), default=default_model)\n",
    "    data_variable = param.Selector(\n",
    "        list(idatas_cmp[default_model].posterior.data_vars.variables)\n",
    "    )\n",
    "    coor_variable = param.Selector(\"\")\n",
    "\n",
    "    @param.depends(\"model\", watch=True)\n",
    "    def _update_data_variables(self):\n",
    "        data_variables = list(self.idatas_cmp[self.model].posterior.data_vars.variables)\n",
    "        self.param[\"data_variable\"].objects = data_variables\n",
    "        if self.data_variable not in data_variables:\n",
    "            self.data_variable = data_variables[0]\n",
    "\n",
    "    @param.depends(\"data_variable\", watch=True)\n",
    "    def _update_coordinates(self):\n",
    "        if (\n",
    "            self.idatas_cmp[self.model]\n",
    "            .posterior.data_vars.variables[self.data_variable][0][0]\n",
    "            .size\n",
    "            > 1\n",
    "        ):\n",
    "            coor_variables = list(\n",
    "                self.idatas_cmp[self.model].posterior.indexes[\"school\"]\n",
    "            )\n",
    "        else:\n",
    "            coor_variables = [\"\"]\n",
    "        self.param[\"coor_variable\"].objects = coor_variables\n",
    "        if self.coor_variable not in coor_variables:\n",
    "            self.coor_variable = coor_variables[0]\n",
    "\n",
    "\n",
    "c = ModelVar()\n",
    "pn.Row(c)"
   ]
  },
  {
   "cell_type": "code",
   "execution_count": null,
   "id": "3b40d5a8-9483-47da-9704-9b185fb8dce1",
   "metadata": {},
   "outputs": [],
   "source": [
    "class ModelVar(param.Parameterized):\n",
    "    default_model = list(idatas_cmp.keys())[0]\n",
    "    model = param.Selector(list(idatas_cmp.keys()), default=default_model)\n",
    "    data_variable = param.Selector(\n",
    "        list(idatas_cmp[default_model].posterior.data_vars.variables)\n",
    "    )\n",
    "    coor_variable = param.Selector(\"\")\n",
    "\n",
    "    @param.depends(\"model\", watch=True)\n",
    "    def _update_data_variables(self):\n",
    "        data_variables = list(self.idatas_cmp[self.model].posterior.data_vars.variables)\n",
    "        self.param[\"data_variable\"].objects = data_variables\n",
    "        if self.data_variable not in data_variables:\n",
    "            self.data_variable = data_variables[0]\n",
    "\n",
    "    @param.depends(\"data_variable\", watch=True)\n",
    "    def _update_coordinates(self):\n",
    "        if (\n",
    "            self.idatas_cmp[self.model]\n",
    "            .posterior.data_vars.variables[self.data_variable][0][0]\n",
    "            .size\n",
    "            > 1\n",
    "        ):\n",
    "            coor_variables = list(\n",
    "                self.idatas_cmp[self.model].posterior.indexes[\"school\"]\n",
    "            )\n",
    "        else:\n",
    "            coor_variables = [\"\"]\n",
    "        self.param[\"coor_variable\"].objects = coor_variables\n",
    "        if self.coor_variable not in coor_variables:\n",
    "            self.coor_variable = coor_variables[0]\n",
    "\n",
    "\n",
    "class ForestDashboard(ModelVar):\n",
    "    def __init__(self, idatas_cmp) -> None:\n",
    "        self.idatas_cmp = idatas_cmp\n",
    "        self.models = super()\n",
    "\n",
    "    def dashboard_forest(self):\n",
    "        # define the widgets\n",
    "        multi_select = pn.widgets.MultiSelect(\n",
    "            name=\"ModelSelect\",\n",
    "            options=list(self.idatas_cmp.keys()),\n",
    "            value=[\"mA\"],\n",
    "        )\n",
    "        thre_slider = pn.widgets.FloatSlider(\n",
    "            name=\"HDI Probability\", start=0, end=1, step=0.05, value=0.7, width=200\n",
    "        )\n",
    "        truncate_checkbox = pn.widgets.Checkbox(name=\"Ridgeplot Truncate\")\n",
    "        ridge_quant = pn.widgets.RangeSlider(\n",
    "            name=\"Ridgeplot Quantiles\",\n",
    "            start=0,\n",
    "            end=1,\n",
    "            value=(0.25, 0.75),\n",
    "            step=0.01,\n",
    "            width=200,\n",
    "        )\n",
    "        op_slider = pn.widgets.FloatSlider(\n",
    "            name=\"Ridgeplot Overlap\", start=0, end=1, step=0.05, value=0.7, width=200\n",
    "        )\n",
    "\n",
    "        # construct widget\n",
    "        @pn.depends(\n",
    "            multi_select.param.value,\n",
    "            thre_slider.param.value,\n",
    "        )\n",
    "        def get_forest_plot(\n",
    "            multi_select,\n",
    "            thre_slider,\n",
    "        ):\n",
    "            # generate graph\n",
    "            data = []\n",
    "            for model_ in multi_select:\n",
    "                data.append(self.idatas_cmp[model_])\n",
    "\n",
    "            forest_plt = az.plot_forest(\n",
    "                data,\n",
    "                model_names=multi_select,\n",
    "                kind=\"forestplot\",\n",
    "                hdi_prob=thre_slider,\n",
    "                backend=\"bokeh\",\n",
    "                figsize=(9, 9),\n",
    "                show=False,\n",
    "                combined=True,\n",
    "                colors=\"cycle\",\n",
    "            )\n",
    "            return forest_plt[0][0]\n",
    "\n",
    "        @pn.depends(\n",
    "            multi_select.param.value,\n",
    "            thre_slider.param.value,\n",
    "            truncate_checkbox.param.value,\n",
    "            ridge_quant.param.value,\n",
    "            op_slider.param.value,\n",
    "        )\n",
    "        def get_ridge_plot(\n",
    "            multi_select,\n",
    "            thre_slider,\n",
    "            truncate_checkbox,\n",
    "            ridge_quant,\n",
    "            op_slider,\n",
    "        ):\n",
    "            # calculate the ridgeplot_quantiles\n",
    "            temp_quant = list(ridge_quant)\n",
    "            quant_ls = temp_quant\n",
    "            quant_ls.sort()\n",
    "            avg_quant = sum(temp_quant) / 2\n",
    "            if quant_ls[0] < 0.5 and quant_ls[1] > 0.5:\n",
    "                quant_ls.append(0.5)\n",
    "                quant_ls.sort()\n",
    "            else:\n",
    "                quant_ls.append(avg_quant)\n",
    "                quant_ls.sort()\n",
    "\n",
    "            # generate graph\n",
    "            data = []\n",
    "            for model_ in multi_select:\n",
    "                data.append(self.idatas_cmp[model_])\n",
    "\n",
    "            ridge_plt = az.plot_forest(\n",
    "                data,\n",
    "                model_names=multi_select,\n",
    "                kind=\"ridgeplot\",\n",
    "                hdi_prob=thre_slider,\n",
    "                ridgeplot_truncate=truncate_checkbox,\n",
    "                ridgeplot_quantiles=quant_ls,\n",
    "                ridgeplot_overlap=op_slider,\n",
    "                backend=\"bokeh\",\n",
    "                figsize=(9, 9),\n",
    "                show=False,\n",
    "                combined=True,\n",
    "                colors=\"white\",\n",
    "            )\n",
    "            return ridge_plt[0][0]\n",
    "\n",
    "        plot_result_1 = pn.Row(get_forest_plot)\n",
    "        plot_result_2 = pn.Column(\n",
    "            pn.Row(truncate_checkbox),\n",
    "            pn.Row(ridge_quant, op_slider),\n",
    "            get_ridge_plot,\n",
    "        )\n",
    "\n",
    "        # show up\n",
    "        display(\n",
    "            pn.Column(\n",
    "                pn.Row(multi_select),\n",
    "                thre_slider,\n",
    "                # pn.Row(variables_selection, update_coords),\n",
    "                pn.Tabs(\n",
    "                    (\"Forest_Plot\", plot_result_1),\n",
    "                    (\n",
    "                        \"Rdiget_Plot\",\n",
    "                        plot_result_2,\n",
    "                    ),\n",
    "                ),\n",
    "            ).servable(),\n",
    "        )"
   ]
  },
  {
   "cell_type": "code",
   "execution_count": null,
   "id": "edf51107-9a76-4bd1-8e12-21f5219c3a24",
   "metadata": {},
   "outputs": [],
   "source": [
    "forest_dashboard = ForestDashboard(dict_cmp)"
   ]
  },
  {
   "cell_type": "code",
   "execution_count": null,
   "id": "e56454f6-8365-467c-8142-f10775f007c6",
   "metadata": {},
   "outputs": [],
   "source": [
    "forest_dashboard.dashboard_forest()"
   ]
  }
 ],
 "metadata": {
  "kernelspec": {
   "display_name": "Python 3 (ipykernel)",
   "language": "python",
   "name": "python3"
  },
  "language_info": {
   "codemirror_mode": {
    "name": "ipython",
    "version": 3
   },
   "file_extension": ".py",
   "mimetype": "text/x-python",
   "name": "python",
   "nbconvert_exporter": "python",
   "pygments_lexer": "ipython3",
   "version": "3.8.13"
  }
 },
 "nbformat": 4,
 "nbformat_minor": 5
}
